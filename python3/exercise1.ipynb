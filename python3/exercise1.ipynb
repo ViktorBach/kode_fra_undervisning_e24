{
 "cells": [
  {
   "cell_type": "code",
   "execution_count": 1,
   "metadata": {},
   "outputs": [
    {
     "name": "stdout",
     "output_type": "stream",
     "text": [
      "Requirement already satisfied: requests in /Users/viktorbach/Python repos/kode_fra_undervisning_e24/.venv/lib/python3.12/site-packages (2.32.3)\n",
      "Requirement already satisfied: charset-normalizer<4,>=2 in /Users/viktorbach/Python repos/kode_fra_undervisning_e24/.venv/lib/python3.12/site-packages (from requests) (3.3.2)\n",
      "Requirement already satisfied: idna<4,>=2.5 in /Users/viktorbach/Python repos/kode_fra_undervisning_e24/.venv/lib/python3.12/site-packages (from requests) (3.8)\n",
      "Requirement already satisfied: urllib3<3,>=1.21.1 in /Users/viktorbach/Python repos/kode_fra_undervisning_e24/.venv/lib/python3.12/site-packages (from requests) (2.2.3)\n",
      "Requirement already satisfied: certifi>=2017.4.17 in /Users/viktorbach/Python repos/kode_fra_undervisning_e24/.venv/lib/python3.12/site-packages (from requests) (2024.8.30)\n",
      "Note: you may need to restart the kernel to use updated packages.\n"
     ]
    }
   ],
   "source": [
    "%pip install requests"
   ]
  },
  {
   "cell_type": "code",
   "execution_count": 24,
   "metadata": {},
   "outputs": [
    {
     "data": {
      "text/plain": [
       "CompletedProcess(args=['open', 'file.html'], returncode=0)"
      ]
     },
     "execution_count": 24,
     "metadata": {},
     "output_type": "execute_result"
    }
   ],
   "source": [
    "import os\n",
    "import requests\n",
    "import subprocess\n",
    "\n",
    "#os makedirs('name', exist_ok=True)\n",
    "\n",
    "req = requests.get('https://itakea.github.io/e24_swa/py_intro_3.html')\n",
    "#stylesheet = requests.get('https://itakea.github.io/e24_swa/_static/css/custom.css?v=a5898925')\n",
    "\n",
    "#replacedstyle = req.text.replace(\n",
    "#    '<link rel=\"stylesheet\" type=\"text/css\" href=\"\"_static/css/custom.css?v=a5898925\"/>',\n",
    "#    f'<style>{stylesheet.text}</style>'\n",
    "#)\n",
    "\n",
    "#with open('file.html', 'w', encoding='utf-8') as f:\n",
    "#    f.write(replacedstyle)\n",
    "\n",
    "html = req.text\n",
    "\n",
    "start = 0\n",
    "\n",
    "i = 1\n",
    "\n",
    "while True:\n",
    "    link_start = html.find('<link rel=\"stylesheet\"', start)\n",
    "\n",
    "    if link_start == -1:\n",
    "        break\n",
    "    \n",
    "    href_start = html.find('href=\"', link_start)\n",
    "\n",
    "    href_end = html.find('\"', href_start + len('href=\"'))\n",
    "\n",
    "    css = html[href_start + len('href=\"'):href_end]\n",
    "\n",
    "    res_css = requests.get(f'https://itakea.github.io/e24_swa({css})')\n",
    "\n",
    "    with open(f'style{i}.css', 'w',) as f:\n",
    "        f.write(res_css.text)\n",
    "\n",
    "    html = html.replace(css, f'style{i}.css')\n",
    "\n",
    "    i += 1\n",
    "\n",
    "    start = link_start + len('<link')\n",
    "\n",
    "with open('file.html', 'w') as f:\n",
    "    f.write(req.text)\n",
    "\n",
    "subprocess.run(['open', 'file.html'])"
   ]
  }
 ],
 "metadata": {
  "kernelspec": {
   "display_name": ".venv",
   "language": "python",
   "name": "python3"
  },
  "language_info": {
   "codemirror_mode": {
    "name": "ipython",
    "version": 3
   },
   "file_extension": ".py",
   "mimetype": "text/x-python",
   "name": "python",
   "nbconvert_exporter": "python",
   "pygments_lexer": "ipython3",
   "version": "3.12.5"
  }
 },
 "nbformat": 4,
 "nbformat_minor": 2
}
